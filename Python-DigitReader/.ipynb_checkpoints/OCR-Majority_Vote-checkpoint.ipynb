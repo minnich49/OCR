{
 "cells": [
  {
   "cell_type": "markdown",
   "metadata": {},
   "source": [
    "## Majority Vote Approach"
   ]
  },
  {
   "cell_type": "markdown",
   "metadata": {},
   "source": [
    "Now we will take a look at combining all 3 types of aglrotihms tested to see if we can improve the performance by simply taking a majority vote between the 3 algorithms run."
   ]
  },
  {
   "cell_type": "code",
   "execution_count": 68,
   "metadata": {
    "collapsed": true
   },
   "outputs": [],
   "source": [
    "%matplotlib inline\n",
    "import warnings\n",
    "warnings.filterwarnings('ignore')\n",
    "import sklearn\n",
    "import numpy as np\n",
    "import matplotlib.pyplot as plt\n",
    "import pandas as pd\n",
    "import numpy as np"
   ]
  },
  {
   "cell_type": "code",
   "execution_count": 2,
   "metadata": {
    "collapsed": true
   },
   "outputs": [],
   "source": [
    "df_NN = pd.read_csv(\"output_NeuralNetowrk.csv\")\n",
    "df_RF = pd.read_csv(\"output_RandomForests.csv\")\n",
    "df_GB = pd.read_csv(\"output_GradientBoost.csv\")"
   ]
  },
  {
   "cell_type": "code",
   "execution_count": 7,
   "metadata": {
    "collapsed": false
   },
   "outputs": [],
   "source": [
    "#Rename Data Frames\n",
    "df_NN.columns=[\"ImageID\",\"Label_NN\"]\n",
    "df_RF.columns=[\"ImageID\",\"Label_RF\"]\n",
    "df_GB.columns=[\"ImageID\",\"Label_GB\"]"
   ]
  },
  {
   "cell_type": "code",
   "execution_count": 25,
   "metadata": {
    "collapsed": false
   },
   "outputs": [],
   "source": [
    "#Combine the Data Frames\n",
    "df_com = pd.concat([df_NN,df_RF[\"Label_RF\"],df_GB[\"Label_GB\"]],axis = 1)"
   ]
  },
  {
   "cell_type": "code",
   "execution_count": 67,
   "metadata": {
    "collapsed": false
   },
   "outputs": [],
   "source": [
    "#Addd Final Column so we can place the final majority vote here\n",
    "df_com['Final'] = pd.Series(0, index=df_com.index) "
   ]
  },
  {
   "cell_type": "markdown",
   "metadata": {},
   "source": [
    "We will now show a sample of where the algorithms may not have agreed on their output. Then we will wor to take the majority vote and place it in the Final column"
   ]
  },
  {
   "cell_type": "code",
   "execution_count": 66,
   "metadata": {
    "collapsed": false
   },
   "outputs": [
    {
     "data": {
      "text/html": [
       "<div>\n",
       "<table border=\"1\" class=\"dataframe\">\n",
       "  <thead>\n",
       "    <tr style=\"text-align: right;\">\n",
       "      <th></th>\n",
       "      <th>Label_NN</th>\n",
       "      <th>Label_RF</th>\n",
       "      <th>Label_GB</th>\n",
       "      <th>Final</th>\n",
       "    </tr>\n",
       "  </thead>\n",
       "  <tbody>\n",
       "    <tr>\n",
       "      <th>15</th>\n",
       "      <td>5</td>\n",
       "      <td>3</td>\n",
       "      <td>3</td>\n",
       "      <td>3</td>\n",
       "    </tr>\n",
       "    <tr>\n",
       "      <th>30</th>\n",
       "      <td>7</td>\n",
       "      <td>7</td>\n",
       "      <td>4</td>\n",
       "      <td>7</td>\n",
       "    </tr>\n",
       "    <tr>\n",
       "      <th>36</th>\n",
       "      <td>5</td>\n",
       "      <td>5</td>\n",
       "      <td>9</td>\n",
       "      <td>5</td>\n",
       "    </tr>\n",
       "    <tr>\n",
       "      <th>47</th>\n",
       "      <td>2</td>\n",
       "      <td>8</td>\n",
       "      <td>8</td>\n",
       "      <td>8</td>\n",
       "    </tr>\n",
       "    <tr>\n",
       "      <th>59</th>\n",
       "      <td>0</td>\n",
       "      <td>5</td>\n",
       "      <td>0</td>\n",
       "      <td>0</td>\n",
       "    </tr>\n",
       "    <tr>\n",
       "      <th>76</th>\n",
       "      <td>5</td>\n",
       "      <td>8</td>\n",
       "      <td>3</td>\n",
       "      <td>0</td>\n",
       "    </tr>\n",
       "    <tr>\n",
       "      <th>81</th>\n",
       "      <td>4</td>\n",
       "      <td>4</td>\n",
       "      <td>9</td>\n",
       "      <td>4</td>\n",
       "    </tr>\n",
       "    <tr>\n",
       "      <th>101</th>\n",
       "      <td>9</td>\n",
       "      <td>3</td>\n",
       "      <td>9</td>\n",
       "      <td>9</td>\n",
       "    </tr>\n",
       "  </tbody>\n",
       "</table>\n",
       "</div>"
      ],
      "text/latex": [
       "\\begin{tabular}{lrrrr}\n",
       "\\toprule\n",
       "{} &  Label\\_NN &  Label\\_RF &  Label\\_GB &  Final \\\\\n",
       "\\midrule\n",
       "15  &         5 &         3 &         3 &      3 \\\\\n",
       "30  &         7 &         7 &         4 &      7 \\\\\n",
       "36  &         5 &         5 &         9 &      5 \\\\\n",
       "47  &         2 &         8 &         8 &      8 \\\\\n",
       "59  &         0 &         5 &         0 &      0 \\\\\n",
       "76  &         5 &         8 &         3 &      0 \\\\\n",
       "81  &         4 &         4 &         9 &      4 \\\\\n",
       "101 &         9 &         3 &         9 &      9 \\\\\n",
       "\\bottomrule\n",
       "\\end{tabular}\n"
      ],
      "text/plain": [
       "     Label_NN  Label_RF  Label_GB  Final\n",
       "15          5         3         3      3\n",
       "30          7         7         4      7\n",
       "36          5         5         9      5\n",
       "47          2         8         8      8\n",
       "59          0         5         0      0\n",
       "76          5         8         3      0\n",
       "81          4         4         9      4\n",
       "101         9         3         9      9"
      ]
     },
     "execution_count": 66,
     "metadata": {},
     "output_type": "execute_result"
    }
   ],
   "source": [
    "Mis_Matched_Reults = df_com[(df_com.Label_RF != df_com.Label_NN) | (df_com.Label_NN != df_com.Label_GB)| (df_com.Label_RF != df_com.Label_GB)]\n",
    "Mis_Matched_Reults.ix[15:101,:]"
   ]
  },
  {
   "cell_type": "code",
   "execution_count": 52,
   "metadata": {
    "collapsed": false
   },
   "outputs": [],
   "source": [
    "#Use Boolean to complete a voting for each Machine Learning algorithm. If either of the results appears 2 times, than we will go with that resu\n",
    "df_com.ix[(df_com.Label_RF == df_com.Label_NN),\"Final\"] = df_com.ix[(df_com.Label_RF == df_com.Label_NN),\"Label_RF\"]\n",
    "\n",
    "df_com.ix[(df_com.Label_RF == df_com.Label_GB),\"Final\"] = df_com.ix[(df_com.Label_RF == df_com.Label_GB),\"Label_RF\"]\n",
    "\n",
    "df_com.ix[(df_com.Label_GB == df_com.Label_NN),\"Final\"] = df_com.ix[(df_com.Label_GB == df_com.Label_NN),\"Label_GB\"]"
   ]
  },
  {
   "cell_type": "code",
   "execution_count": 55,
   "metadata": {
    "collapsed": false
   },
   "outputs": [],
   "source": [
    "#Change for output for Kaggle Competition\n",
    "pd.DataFrame.to_csv(df_com.ix[:,(0,4)],\"Combined.csv\")\n",
    "\n"
   ]
  },
  {
   "cell_type": "markdown",
   "metadata": {},
   "source": [
    "Here are the final results of all the algorithms  \n",
    "Neural = 0.95829  \n",
    "Random = 0.96600   \n",
    "Gradient Boosting = 0.95857  \n",
    "Majority Vote =0.96729\n",
    "\n"
   ]
  },
  {
   "cell_type": "markdown",
   "metadata": {},
   "source": [
    "What we have seen here is that without much tuning(if the training time was too long we moved on) we were able to get great results very quickly using any of the 3 algorithms. If we combined all three and took a majority vote, we saw an extra increase in performance.\n",
    "\n",
    "No doubt more time could be spent on each of these algorithms to tune and improve performance but overall it was a good learning exercise in practicing Data Science"
   ]
  }
 ],
 "metadata": {
  "kernelspec": {
   "display_name": "Python 2",
   "language": "python",
   "name": "python2"
  },
  "language_info": {
   "codemirror_mode": {
    "name": "ipython",
    "version": 2
   },
   "file_extension": ".py",
   "mimetype": "text/x-python",
   "name": "python",
   "nbconvert_exporter": "python",
   "pygments_lexer": "ipython2",
   "version": "2.7.10"
  }
 },
 "nbformat": 4,
 "nbformat_minor": 0
}
